{
 "cells": [
  {
   "cell_type": "code",
   "execution_count": 1,
   "metadata": {},
   "outputs": [],
   "source": [
    "# Package importation\n",
    "import numpy as np\n",
    "import cv2\n",
    "import pickle\n",
    "# import PIL.ExifTags\n",
    "# import PIL.Image"
   ]
  },
  {
   "cell_type": "code",
   "execution_count": 2,
   "metadata": {},
   "outputs": [],
   "source": [
    "# CHECKERBOARD = (8,6)\n",
    "CHECKERBOARD =(7,7)\n",
    "\n",
    "# Termination criteria\n",
    "criteria =(cv2.TERM_CRITERIA_EPS + cv2.TERM_CRITERIA_MAX_ITER, 30, 0.001)\n",
    "criteria_stereo= (cv2.TERM_CRITERIA_EPS + cv2.TERM_CRITERIA_MAX_ITER, 30, 0.001)\n",
    "\n",
    "# Prepare object points\n",
    "objp = np.zeros((1, CHECKERBOARD[0]*CHECKERBOARD[1], 3), np.float32)\n",
    "objp[0,:,:2] = np.mgrid[0:CHECKERBOARD[0], 0:CHECKERBOARD[1]].T.reshape(-1, 2)\n",
    "\n",
    "# Prepare object points\n",
    "# objp = np.zeros((9*6,3), np.float32)\n",
    "# objp[:,:2] = np.mgrid[0:9,0:6].T.reshape(-1,2)\n",
    "# Arrays to store object points and image points from all images\n",
    "objpoints= []   # 3d points in real world space\n",
    "imgpointsR= []   # 2d points in image plane\n",
    "imgpointsL= []\n"
   ]
  },
  {
   "cell_type": "code",
   "execution_count": 3,
   "metadata": {},
   "outputs": [
    {
     "name": "stdout",
     "output_type": "stream",
     "text": [
      "Starting calibration for the 2 cameras... \n",
      "level_ 0 True True\n",
      "level_ 1 True False\n",
      "level_ 2 True True\n",
      "level_ 3 True False\n",
      "level_ 4 True False\n",
      "level_ 5 True False\n",
      "level_ 6 True True\n",
      "level_ 7 True False\n",
      "level_ 8 False False\n",
      "level_ 9 True True\n",
      "level_ 10 True True\n",
      "level_ 11 True True\n",
      "level_ 12 True True\n",
      "level_ 13 False False\n",
      "level_ 14 True True\n",
      "level_ 15 False False\n",
      "level_ 16 False False\n",
      "level_ 17 False False\n",
      "level_ 18 False False\n",
      "level_ 19 False False\n",
      "level_ 20 True True\n",
      "level_ 21 True True\n",
      "level_ 22 True True\n",
      "level_ 23 True True\n",
      "level_ 24 True True\n",
      "level_ 25 True True\n",
      "level_ 26 False True\n",
      "level_ 27 False False\n",
      "level_ 28 False True\n",
      "level_ 29 False True\n",
      "level_ 30 False True\n",
      "level_ 31 False True\n",
      "level_ 32 False True\n",
      "level_ 33 False True\n",
      "level_ 34 True True\n",
      "level_ 35 False True\n"
     ]
    }
   ],
   "source": [
    "#The code works,,,,any error thrown is due to the images\n",
    "\n",
    "# Start calibration from the camera\n",
    "print('Starting calibration for the 2 cameras... ')\n",
    "# Call all saved images\n",
    "total_imgs = 36\n",
    "for i in range(0,total_imgs):   # Put the amount of pictures you have taken for the calibration inbetween range(0,?) wenn starting from the image number 0\n",
    "    t= str(i)\n",
    "    ChessImaR= cv2.imread('calib_imgs/camera_right'+t+'.png',0)    # Right side\n",
    "    ChessImaL= cv2.imread('calib_imgs/camera_left'+t+'.png',0)    # Left side\n",
    "    retR, cornersR = cv2.findChessboardCorners(ChessImaR,CHECKERBOARD,cv2.CALIB_CB_ADAPTIVE_THRESH+cv2.CALIB_CB_FAST_CHECK+cv2.CALIB_CB_NORMALIZE_IMAGE)  # Define the number of chees corners we are looking for\n",
    "    retL, cornersL = cv2.findChessboardCorners(ChessImaL,CHECKERBOARD,cv2.CALIB_CB_ADAPTIVE_THRESH+cv2.CALIB_CB_FAST_CHECK+cv2.CALIB_CB_NORMALIZE_IMAGE)  # Left side\n",
    "    print(\"level_\",t,retR,retL)\n",
    "    if (True == retR) & (True == retL):\n",
    "        objpoints.append(objp)\n",
    "        cv2.cornerSubPix(ChessImaR,cornersR,(3,3),(-1,-1),criteria)\n",
    "        cv2.cornerSubPix(ChessImaL,cornersL,(3,3),(-1,-1),criteria)\n",
    "        imgpointsR.append(cornersR)\n",
    "        imgpointsL.append(cornersL)"
   ]
  },
  {
   "cell_type": "code",
   "execution_count": null,
   "metadata": {},
   "outputs": [],
   "source": [
    "# print(imgpointsR)"
   ]
  },
  {
   "cell_type": "code",
   "execution_count": 4,
   "metadata": {},
   "outputs": [
    {
     "name": "stdout",
     "output_type": "stream",
     "text": [
      "Cameras Ready to use\n",
      "Mls [[572.17647393   0.         478.96299565]\n",
      " [  0.         572.18235571 359.12679712]\n",
      " [  0.           0.           1.        ]]\n",
      "\n",
      "Mrs [[571.47628153   0.         479.37913581]\n",
      " [  0.         571.45085247 359.15989811]\n",
      " [  0.           0.           1.        ]]\n"
     ]
    }
   ],
   "source": [
    "# print(imgpointsL,imgpointsR)\n",
    "# Determine the new values for different parameters\n",
    "#   Right Side\n",
    "retR, mtxR, distR, rvecsR, tvecsR = cv2.calibrateCamera(objpoints,  imgpointsR,  ChessImaR.shape[::-1],None,None)\n",
    "\n",
    "hR,wR= ChessImaR.shape[:2]\n",
    "OmtxR, roiR= cv2.getOptimalNewCameraMatrix(mtxR,distR,(wR,hR),1,(wR,hR))\n",
    "\n",
    "#   Left Side\n",
    "retL, mtxL, distL, rvecsL, tvecsL = cv2.calibrateCamera(objpoints,imgpointsL,ChessImaL.shape[::-1],None,None)\n",
    "\n",
    "hL,wL= ChessImaL.shape[:2]\n",
    "OmtxL, roiL= cv2.getOptimalNewCameraMatrix(mtxL,distL,(wL,hL),1,(wL,hL))\n",
    "\n",
    "print('Cameras Ready to use')\n",
    "print(\"Mls\",mtxL)\n",
    "print()\n",
    "print(\"Mrs\",mtxR)"
   ]
  },
  {
   "cell_type": "code",
   "execution_count": 5,
   "metadata": {},
   "outputs": [],
   "source": [
    "#********************************************\n",
    "#***** Calibrate the Cameras for Stereo *****\n",
    "#********************************************\n",
    "\n",
    "# StereoCalibrate function\n",
    "flags = 0\n",
    "flags |= cv2.CALIB_FIX_INTRINSIC\n",
    "#flags |= cv2.CALIB_FIX_PRINCIPAL_POINT\n",
    "#flags |= cv2.CALIB_USE_INTRINSIC_GUESS\n",
    "#flags |= cv2.CALIB_FIX_FOCAL_LENGTH\n",
    "#flags |= cv2.CALIB_FIX_ASPECT_RATIO\n",
    "#flags |= cv2.CALIB_ZERO_TANGENT_DIST\n",
    "#flags |= cv2.CALIB_RATIONAL_MODEL\n",
    "#flags |= cv2.CALIB_SAME_FOCAL_LENGTH\n",
    "#flags |= cv2.CALIB_FIX_K3\n",
    "#flags |= cv2.CALIB_FIX_K4\n",
    "#flags |= cv2.CALIB_FIX_K5\n",
    "retS, MLS, dLS, MRS, dRS, R, T, E, F= cv2.stereoCalibrate(objpoints,\n",
    "                                                          imgpointsL,\n",
    "                                                          imgpointsR,\n",
    "                                                          mtxL,\n",
    "                                                          distL,\n",
    "                                                          mtxR,\n",
    "                                                          distR,\n",
    "                                                          ChessImaR.shape[::-1],\n",
    "                                                          criteria_stereo,\n",
    "                                                          flags)\n"
   ]
  },
  {
   "cell_type": "code",
   "execution_count": 6,
   "metadata": {},
   "outputs": [
    {
     "name": "stdout",
     "output_type": "stream",
     "text": [
      "[[   1.            0.            0.         -477.64002609]\n",
      " [   0.            1.            0.         -439.02316284]\n",
      " [   0.            0.            0.          571.82637773]\n",
      " [   0.            0.            1.65088716   -0.        ]]\n"
     ]
    }
   ],
   "source": [
    "# StereoRectify function\n",
    "rectify_scale= 0 # if 0 image croped, if 1 image nor croped\n",
    "RL, RR, PL, PR, Q, roiL, roiR= cv2.stereoRectify(MLS, dLS, MRS, dRS,\n",
    "                                                 ChessImaR.shape[::-1], R, T,\n",
    "                                                 rectify_scale,(0,0))  # last paramater is alpha, if 0= croped, if 1= not croped\n",
    "# initUndistortRectifyMap function\n",
    "Left_Stereo_Map= cv2.initUndistortRectifyMap(MLS, dLS, RL, PL,\n",
    "                                             ChessImaR.shape[::-1], cv2.CV_16SC2)   # cv2.CV_16SC2 this format enables us the programme to work faster\n",
    "Right_Stereo_Map= cv2.initUndistortRectifyMap(MRS, dRS, RR, PR,\n",
    "                                              ChessImaR.shape[::-1], cv2.CV_16SC2)\n",
    "print(Q)"
   ]
  },
  {
   "cell_type": "code",
   "execution_count": 9,
   "metadata": {},
   "outputs": [],
   "source": [
    "val_left = \"left_map\"\n",
    "# print(Left_Stereo_Map)\n",
    "left_map = open(val_left, \"wb\")#Open the file\n",
    "pickle.dump(Left_Stereo_Map, left_map, protocol=2)#Dump the dictionary bok, the first parameter into the file object w.\n",
    "left_map.close()\n",
    "\n",
    "val_right = \"right_map\"\n",
    "# print(Left_Stereo_Map)\n",
    "right_map = open(val_right, \"wb\")#Open the file\n",
    "pickle.dump(Right_Stereo_Map, right_map, protocol=2) #protocol= 2 because I use a python2 to open, if not, remove\n",
    "right_map.close()"
   ]
  },
  {
   "cell_type": "code",
   "execution_count": 7,
   "metadata": {},
   "outputs": [
    {
     "name": "stdout",
     "output_type": "stream",
     "text": [
      "(array([[[-15,  15],\n",
      "        [-14,  15],\n",
      "        [-13,  15],\n",
      "        ...,\n",
      "        [968,  11],\n",
      "        [969,  11],\n",
      "        [970,  11]],\n",
      "\n",
      "       [[-15,  16],\n",
      "        [-14,  16],\n",
      "        [-13,  16],\n",
      "        ...,\n",
      "        [968,  12],\n",
      "        [969,  12],\n",
      "        [970,  12]],\n",
      "\n",
      "       [[-15,  17],\n",
      "        [-14,  17],\n",
      "        [-13,  17],\n",
      "        ...,\n",
      "        [968,  13],\n",
      "        [969,  13],\n",
      "        [970,  13]],\n",
      "\n",
      "       ...,\n",
      "\n",
      "       [[ 13, 731],\n",
      "        [ 14, 731],\n",
      "        [ 15, 731],\n",
      "        ...,\n",
      "        [946, 727],\n",
      "        [947, 727],\n",
      "        [948, 727]],\n",
      "\n",
      "       [[ 13, 732],\n",
      "        [ 14, 732],\n",
      "        [ 15, 732],\n",
      "        ...,\n",
      "        [946, 728],\n",
      "        [947, 728],\n",
      "        [948, 728]],\n",
      "\n",
      "       [[ 13, 733],\n",
      "        [ 14, 733],\n",
      "        [ 15, 733],\n",
      "        ...,\n",
      "        [946, 729],\n",
      "        [947, 729],\n",
      "        [948, 729]]], dtype=int16), array([[686, 720, 721, ..., 856, 857, 827],\n",
      "       [752, 785, 787, ..., 919, 920, 889],\n",
      "       [818, 851, 853, ..., 981, 983, 952],\n",
      "       ...,\n",
      "       [564, 564, 531, ..., 874, 874, 874],\n",
      "       [533, 500, 500, ..., 810, 841, 841],\n",
      "       [470, 469, 437, ..., 777, 777, 776]], dtype=uint16))\n"
     ]
    }
   ],
   "source": [
    "# import pickle#import the pickle module,protocol=2\n",
    "# w=open(val, 'rb')#Open the file\n",
    "# bok=pickle.load(w)#Assign the recreated object to bok\n",
    "# # print(bok)\n",
    "\n",
    "left_map = \"left_map\"\n",
    "right_map = \"right_map\"\n",
    "w_left = open(left_map, 'rb')  # Open the file\n",
    "w_right = open(right_map, 'rb')  # Open the file\n",
    "ap = pickle.load(w_left)  # Assign the recreated object to bok\n",
    "print(ap)"
   ]
  },
  {
   "cell_type": "code",
   "execution_count": null,
   "metadata": {},
   "outputs": [],
   "source": [
    "# https://medium.com/@omar.ps16/stereo-3d-reconstruction-with-opencv-using-an-iphone-camera-part-ii-77754b58bfe0\n",
    "#Get exif data in order to get focal length. \n",
    "exif_img = PIL.Image.open(calibration_paths[0])exif_data = {\n",
    " PIL.ExifTags.TAGS[k]:v\n",
    " for k, v in exif_img._getexif().items()\n",
    " if k in PIL.ExifTags.TAGS}#Get focal length in tuple form\n",
    "focal_length_exif = exif_data['FocalLength']#Get focal length in decimal form\n",
    "focal_length = focal_length_exif[0]/focal_length_exif[1]\n",
    "print(focal_length)\n",
    "# np.save(\"./camera_params/FocalLength\", focal_length)"
   ]
  }
 ],
 "metadata": {
  "kernelspec": {
   "display_name": "Python 3",
   "language": "python",
   "name": "python3"
  },
  "language_info": {
   "codemirror_mode": {
    "name": "ipython",
    "version": 3
   },
   "file_extension": ".py",
   "mimetype": "text/x-python",
   "name": "python",
   "nbconvert_exporter": "python",
   "pygments_lexer": "ipython3",
   "version": "3.6.10"
  }
 },
 "nbformat": 4,
 "nbformat_minor": 5
}
