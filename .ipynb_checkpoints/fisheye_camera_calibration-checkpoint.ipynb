{
 "cells": [
  {
   "cell_type": "code",
   "execution_count": 6,
   "metadata": {},
   "outputs": [],
   "source": [
    "import cv2\n",
    "import numpy as np \n",
    "import os \n",
    "import glob \n",
    "import matplotlib.pyplot as plt"
   ]
  },
  {
   "cell_type": "code",
   "execution_count": 7,
   "metadata": {},
   "outputs": [
    {
     "name": "stdout",
     "output_type": "stream",
     "text": [
      "['images\\\\image_0.jpg', 'images\\\\image_1.jpg', 'images\\\\image_10.jpg', 'images\\\\image_11.jpg', 'images\\\\image_12.jpg', 'images\\\\image_13.jpg', 'images\\\\image_14.jpg', 'images\\\\image_15.jpg', 'images\\\\image_16.jpg', 'images\\\\image_17.jpg', 'images\\\\image_18.jpg', 'images\\\\image_19.jpg', 'images\\\\image_2.jpg', 'images\\\\image_20.jpg', 'images\\\\image_21.jpg', 'images\\\\image_22.jpg', 'images\\\\image_23.jpg', 'images\\\\image_24.jpg', 'images\\\\image_25.jpg', 'images\\\\image_26.jpg', 'images\\\\image_27.jpg', 'images\\\\image_28.jpg', 'images\\\\image_29.jpg', 'images\\\\image_3.jpg', 'images\\\\image_30.jpg', 'images\\\\image_31.jpg', 'images\\\\image_32.jpg', 'images\\\\image_33.jpg', 'images\\\\image_34.jpg', 'images\\\\image_35.jpg', 'images\\\\image_36.jpg', 'images\\\\image_37.jpg', 'images\\\\image_38.jpg', 'images\\\\image_39.jpg', 'images\\\\image_4.jpg', 'images\\\\image_40.jpg', 'images\\\\image_5.jpg', 'images\\\\image_6.jpg', 'images\\\\image_7.jpg', 'images\\\\image_8.jpg', 'images\\\\image_9.jpg']\n"
     ]
    }
   ],
   "source": [
    "\n",
    "#checkerboard used size is 8,8 with 2m spacing but using a 7,7 input was the only way the calibration worked\n",
    "\n",
    "CHECKERBOARD = (7,7)\n",
    "\n",
    "subpix_criteria = (cv2.TERM_CRITERIA_EPS + cv2.TERM_CRITERIA_MAX_ITER,30,0.1)\n",
    "\n",
    "#set calibration flags for fisheye camera\n",
    "calibration_flags = cv2.fisheye.CALIB_RECOMPUTE_EXTRINSIC + cv2.fisheye.CALIB_CHECK_COND + cv2.fisheye.CALIB_FIX_SKEW\n",
    "\n",
    "objp = np.zeros((1, CHECKERBOARD[0]*CHECKERBOARD[1], 3), np.float32)\n",
    "objp[0,:,:2] = np.mgrid[0:CHECKERBOARD[0], 0:CHECKERBOARD[1]].T.reshape(-1, 2)\n",
    "\n",
    "_img_shape = None\n",
    "objpoints = [] # 3d point in real world space\n",
    "imgpoints = [] # 2d points in image plane.\n",
    "\n",
    "images = glob.glob('images/*.jpg')\n",
    "print(images)\n"
   ]
  },
  {
   "cell_type": "code",
   "execution_count": 5,
   "metadata": {},
   "outputs": [],
   "source": [
    "#### this is cell is just for tests \n",
    "# CHECKERBOARD = (7,7)   #7,7 works for gray_3 and 6,9 works for 1 and 2\n",
    "# gray_1 = cv2.imread(\"cc.jpg\")\n",
    "# gray_2 = cv2.imread(\"calib.jpg\")\n",
    "# gray_3 = cv2.imread(\"images/image_0.jpg\")\n",
    "# gray_1 = cv2.cvtColor(gray_1,cv2.COLOR_BGR2GRAY)\n",
    "# gray_2 = cv2.cvtColor(gray_2,cv2.COLOR_BGR2GRAY)\n",
    "# gray_3 = cv2.cvtColor(gray_3,cv2.COLOR_BGR2GRAY)\n",
    "\n",
    "# now_img = gray_3\n",
    "# ret, corners = cv2.findChessboardCorners(now_img, CHECKERBOARD, cv2.CALIB_CB_ADAPTIVE_THRESH+cv2.CALIB_CB_FAST_CHECK+cv2.CALIB_CB_NORMALIZE_IMAGE)\n",
    "# print(ret)\n",
    "# plt.imshow(now_img)"
   ]
  },
  {
   "cell_type": "code",
   "execution_count": null,
   "metadata": {},
   "outputs": [],
   "source": []
  },
  {
   "cell_type": "code",
   "execution_count": 8,
   "metadata": {},
   "outputs": [
    {
     "name": "stdout",
     "output_type": "stream",
     "text": [
      "images\\image_11.jpg\n",
      "images\\image_13.jpg\n",
      "images\\image_14.jpg\n",
      "images\\image_16.jpg\n",
      "images\\image_18.jpg\n",
      "images\\image_21.jpg\n",
      "images\\image_22.jpg\n",
      "images\\image_23.jpg\n",
      "images\\image_24.jpg\n",
      "images\\image_25.jpg\n",
      "images\\image_28.jpg\n",
      "images\\image_29.jpg\n",
      "images\\image_30.jpg\n",
      "images\\image_31.jpg\n",
      "images\\image_32.jpg\n",
      "images\\image_33.jpg\n",
      "images\\image_34.jpg\n",
      "images\\image_35.jpg\n",
      "images\\image_37.jpg\n",
      "images\\image_5.jpg\n",
      "images\\image_6.jpg\n",
      "done\n"
     ]
    }
   ],
   "source": [
    "rt = 0\n",
    "rf = 0\n",
    "for fname in images:\n",
    "    img = cv2.imread(fname)\n",
    "    if _img_shape == None:\n",
    "        _img_shape = img.shape[:2]\n",
    "    else:\n",
    "        assert _img_shape == img.shape[:2], \"All images must share the same size.\"\n",
    "    gray = cv2.cvtColor(img,cv2.COLOR_BGR2GRAY)\n",
    "#     plt.imshow(gray)\n",
    "    # cv2.waitKey(0)\n",
    "    # Find the chess board corners\n",
    "    ret, corners = cv2.findChessboardCorners(gray, CHECKERBOARD, cv2.CALIB_CB_ADAPTIVE_THRESH+cv2.CALIB_CB_FAST_CHECK+cv2.CALIB_CB_NORMALIZE_IMAGE)\n",
    "#     print(ret)\n",
    "    # If found, add object points, image points (after refining them)\n",
    "    if ret == True:\n",
    "        rt+=1\n",
    "        objpoints.append(objp)\n",
    "        cv2.cornerSubPix(gray,corners,(3,3),(-1,-1),subpix_criteria)\n",
    "        imgpoints.append(corners)\n",
    "    else:\n",
    "        rf +=1\n",
    "        print(fname)\n",
    "        \n",
    "print(\"done\")\n",
    "# print(\"number of trues ={},number of falses ={}\".format(rt,rf))"
   ]
  },
  {
   "cell_type": "code",
   "execution_count": 4,
   "metadata": {},
   "outputs": [
    {
     "name": "stdout",
     "output_type": "stream",
     "text": [
      "Found 20 images for calibration\n",
      "number of useful =20,number of false images =21\n",
      "DIM=(640, 720)\n",
      "K=np.array([[159.99575739328887, 0.0, 319.5831640048945], [0.0, 160.02685012507118, 359.32876776861923], [0.0, 0.0, 1.0]])\n",
      "D=np.array([[0.0771116403943704], [0.024655141427782377], [-0.014563702458641147], [0.004491653395838882]])\n"
     ]
    }
   ],
   "source": [
    "N_OK = len(objpoints)\n",
    "K = np.zeros((3, 3))\n",
    "D = np.zeros((4, 1))\n",
    "rvecs = [np.zeros((1, 1, 3), dtype=np.float64) for i in range(N_OK)]\n",
    "tvecs = [np.zeros((1, 1, 3), dtype=np.float64) for i in range(N_OK)]\n",
    "rms, _, _, _, _ = \\\n",
    "    cv2.fisheye.calibrate(\n",
    "        objpoints,\n",
    "        imgpoints,\n",
    "        gray.shape[::-1],\n",
    "        K,\n",
    "        D,\n",
    "        rvecs,\n",
    "        tvecs,\n",
    "        calibration_flags,\n",
    "        (cv2.TERM_CRITERIA_EPS+cv2.TERM_CRITERIA_MAX_ITER, 30, 1e-6)\n",
    "    )\n",
    "print(\"Found \" + str(N_OK) + \" images for calibration\")\n",
    "print(\"number of useful ={},number of false images ={}\".format(rt,rf))\n",
    "print(\"DIM=\" + str(_img_shape[::-1]))\n",
    "print(\"K=np.array(\" + str(K.tolist()) + \")\")\n",
    "print(\"D=np.array(\" + str(D.tolist()) + \")\")"
   ]
  }
 ],
 "metadata": {
  "kernelspec": {
   "display_name": "Python 3",
   "language": "python",
   "name": "python3"
  },
  "language_info": {
   "codemirror_mode": {
    "name": "ipython",
    "version": 3
   },
   "file_extension": ".py",
   "mimetype": "text/x-python",
   "name": "python",
   "nbconvert_exporter": "python",
   "pygments_lexer": "ipython3",
   "version": "3.6.10"
  }
 },
 "nbformat": 4,
 "nbformat_minor": 4
}
